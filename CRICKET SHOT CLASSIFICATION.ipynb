{
 "cells": [
  {
   "cell_type": "code",
   "execution_count": 1,
   "id": "0d933fdd",
   "metadata": {},
   "outputs": [],
   "source": [
    "import tensorflow as tf\n",
    "from keras.preprocessing.image import ImageDataGenerator"
   ]
  },
  {
   "cell_type": "code",
   "execution_count": 8,
   "id": "4df11af1",
   "metadata": {},
   "outputs": [],
   "source": [
    "import splitfolders "
   ]
  },
  {
   "cell_type": "code",
   "execution_count": 10,
   "id": "e8202528",
   "metadata": {},
   "outputs": [],
   "source": [
    "input_folder = \"C:/CRICKET SHOTS DATASET/data\""
   ]
  },
  {
   "cell_type": "code",
   "execution_count": 11,
   "id": "c76e45a0",
   "metadata": {},
   "outputs": [],
   "source": [
    "output = \"C:/CRICKET SHOTS DATASET/TRAIN TEST SPLIT UNDERGONE\""
   ]
  },
  {
   "cell_type": "code",
   "execution_count": 13,
   "id": "f04932c4",
   "metadata": {},
   "outputs": [
    {
     "name": "stderr",
     "output_type": "stream",
     "text": [
      "Copying files: 4724 files [00:04, 1028.05 files/s]\n"
     ]
    }
   ],
   "source": [
    "splitfolders.ratio(input_folder,output = output,seed = 42,ratio = (0.8,0.2))"
   ]
  },
  {
   "cell_type": "code",
   "execution_count": 14,
   "id": "f83911a4",
   "metadata": {},
   "outputs": [
    {
     "name": "stdout",
     "output_type": "stream",
     "text": [
      "Found 3778 images belonging to 4 classes.\n"
     ]
    }
   ],
   "source": [
    "training_set = train_datagen.flow_from_directory(\"C:\\\\CRICKET SHOTS DATASET\\\\TRAIN TEST SPLIT UNDERGONE\\\\train\",\n",
    "                                                 target_size = (64,64),\n",
    "                                                 batch_size = 32)"
   ]
  },
  {
   "cell_type": "code",
   "execution_count": 15,
   "id": "49e6df01",
   "metadata": {},
   "outputs": [],
   "source": [
    "test_datagen = ImageDataGenerator(rescale = 1./255)"
   ]
  },
  {
   "cell_type": "code",
   "execution_count": 20,
   "id": "1b9028b4",
   "metadata": {},
   "outputs": [
    {
     "name": "stdout",
     "output_type": "stream",
     "text": [
      "Found 945 images belonging to 4 classes.\n"
     ]
    }
   ],
   "source": [
    "test_set = train_datagen.flow_from_directory(\"C:\\\\CRICKET SHOTS DATASET\\\\TRAIN TEST SPLIT UNDERGONE\\\\val\",\n",
    "                                                 target_size = (64,64),\n",
    "                                                 batch_size = 32)"
   ]
  },
  {
   "cell_type": "code",
   "execution_count": 28,
   "id": "ec5e2035",
   "metadata": {},
   "outputs": [],
   "source": [
    "# DECLARING THE MODEL FOR CNN \n",
    "\n",
    "model = tf.keras.models.Sequential()\n",
    "model.add(tf.keras.layers.Conv2D(filters = 32, kernel_size = 3, activation = 'relu', input_shape = [64,64,3]))\n",
    "model.add(tf.keras.layers.MaxPool2D(pool_size = 2, strides = 2))\n",
    "model.add(tf.keras.layers.Flatten())\n",
    "model.add(tf.keras.layers.Dense(4,activation = 'softmax'))"
   ]
  },
  {
   "cell_type": "code",
   "execution_count": 29,
   "id": "c17698d0",
   "metadata": {},
   "outputs": [],
   "source": [
    "model.compile(optimizer = 'adam',loss = 'categorical_crossentropy',metrics = ['accuracy'])"
   ]
  },
  {
   "cell_type": "code",
   "execution_count": 30,
   "id": "12664774",
   "metadata": {},
   "outputs": [
    {
     "name": "stdout",
     "output_type": "stream",
     "text": [
      "Epoch 1/25\n",
      "119/119 [==============================] - 34s 287ms/step - loss: 1.2848 - accuracy: 0.4367 - val_loss: 1.0468 - val_accuracy: 0.5915\n",
      "Epoch 2/25\n",
      "119/119 [==============================] - 22s 182ms/step - loss: 0.9157 - accuracy: 0.6458 - val_loss: 0.7760 - val_accuracy: 0.7005\n",
      "Epoch 3/25\n",
      "119/119 [==============================] - 21s 179ms/step - loss: 0.7590 - accuracy: 0.7237 - val_loss: 0.6308 - val_accuracy: 0.7598\n",
      "Epoch 4/25\n",
      "119/119 [==============================] - 21s 181ms/step - loss: 0.6629 - accuracy: 0.7610 - val_loss: 0.6039 - val_accuracy: 0.7757\n",
      "Epoch 5/25\n",
      "119/119 [==============================] - 22s 184ms/step - loss: 0.5904 - accuracy: 0.7996 - val_loss: 0.5757 - val_accuracy: 0.7947\n",
      "Epoch 6/25\n",
      "119/119 [==============================] - 22s 181ms/step - loss: 0.5426 - accuracy: 0.8107 - val_loss: 0.5037 - val_accuracy: 0.8265\n",
      "Epoch 7/25\n",
      "119/119 [==============================] - 23s 189ms/step - loss: 0.5197 - accuracy: 0.8221 - val_loss: 0.5699 - val_accuracy: 0.8042\n",
      "Epoch 8/25\n",
      "119/119 [==============================] - 22s 186ms/step - loss: 0.4953 - accuracy: 0.8235 - val_loss: 0.5890 - val_accuracy: 0.7810\n",
      "Epoch 9/25\n",
      "119/119 [==============================] - 22s 189ms/step - loss: 0.4578 - accuracy: 0.8441 - val_loss: 0.5678 - val_accuracy: 0.8085\n",
      "Epoch 10/25\n",
      "119/119 [==============================] - 22s 183ms/step - loss: 0.4547 - accuracy: 0.8425 - val_loss: 0.4433 - val_accuracy: 0.8497\n",
      "Epoch 11/25\n",
      "119/119 [==============================] - 22s 184ms/step - loss: 0.4167 - accuracy: 0.8518 - val_loss: 0.5185 - val_accuracy: 0.8307\n",
      "Epoch 12/25\n",
      "119/119 [==============================] - 22s 184ms/step - loss: 0.4084 - accuracy: 0.8616 - val_loss: 0.4677 - val_accuracy: 0.8360\n",
      "Epoch 13/25\n",
      "119/119 [==============================] - 22s 183ms/step - loss: 0.3940 - accuracy: 0.8597 - val_loss: 0.4282 - val_accuracy: 0.8540\n",
      "Epoch 14/25\n",
      "119/119 [==============================] - 22s 183ms/step - loss: 0.3826 - accuracy: 0.8748 - val_loss: 0.4877 - val_accuracy: 0.8392\n",
      "Epoch 15/25\n",
      "119/119 [==============================] - 22s 186ms/step - loss: 0.3628 - accuracy: 0.8735 - val_loss: 0.4767 - val_accuracy: 0.8497\n",
      "Epoch 16/25\n",
      "119/119 [==============================] - 22s 181ms/step - loss: 0.3497 - accuracy: 0.8753 - val_loss: 0.4042 - val_accuracy: 0.8741\n",
      "Epoch 17/25\n",
      "119/119 [==============================] - 22s 185ms/step - loss: 0.3441 - accuracy: 0.8830 - val_loss: 0.4082 - val_accuracy: 0.8677\n",
      "Epoch 18/25\n",
      "119/119 [==============================] - 22s 182ms/step - loss: 0.3506 - accuracy: 0.8804 - val_loss: 0.4810 - val_accuracy: 0.8487\n",
      "Epoch 19/25\n",
      "119/119 [==============================] - 21s 180ms/step - loss: 0.3311 - accuracy: 0.8875 - val_loss: 0.4201 - val_accuracy: 0.8677\n",
      "Epoch 20/25\n",
      "119/119 [==============================] - 22s 184ms/step - loss: 0.3150 - accuracy: 0.8923 - val_loss: 0.4098 - val_accuracy: 0.8667\n",
      "Epoch 21/25\n",
      "119/119 [==============================] - 22s 186ms/step - loss: 0.3041 - accuracy: 0.8941 - val_loss: 0.4082 - val_accuracy: 0.8646\n",
      "Epoch 22/25\n",
      "119/119 [==============================] - 22s 185ms/step - loss: 0.2853 - accuracy: 0.8984 - val_loss: 0.4326 - val_accuracy: 0.8571\n",
      "Epoch 23/25\n",
      "119/119 [==============================] - 22s 189ms/step - loss: 0.3038 - accuracy: 0.8992 - val_loss: 0.3853 - val_accuracy: 0.8751\n",
      "Epoch 24/25\n",
      "119/119 [==============================] - 22s 181ms/step - loss: 0.3012 - accuracy: 0.8992 - val_loss: 0.4278 - val_accuracy: 0.8582\n",
      "Epoch 25/25\n",
      "119/119 [==============================] - 22s 183ms/step - loss: 0.2905 - accuracy: 0.8968 - val_loss: 0.3748 - val_accuracy: 0.8762\n"
     ]
    },
    {
     "data": {
      "text/plain": [
       "<keras.callbacks.History at 0x20b1fd244c0>"
      ]
     },
     "execution_count": 30,
     "metadata": {},
     "output_type": "execute_result"
    }
   ],
   "source": [
    "model.fit(x = training_set,validation_data = test_set,epochs = 25)"
   ]
  },
  {
   "cell_type": "code",
   "execution_count": 31,
   "id": "e3104512",
   "metadata": {},
   "outputs": [],
   "source": [
    "import numpy as np\n",
    "import keras.utils as image\n",
    "import cv2\n",
    "import matplotlib.pyplot as plt"
   ]
  },
  {
   "cell_type": "code",
   "execution_count": 40,
   "id": "3e088887",
   "metadata": {},
   "outputs": [],
   "source": [
    "test_img = image.load_img(\"C:\\\\CRICKET SHOTS DATASET\\\\drive.jpg\",target_size = (64,64))\n",
    "\n",
    "test_img = image.img_to_array(test_img)\n",
    "test_img = np.expand_dims(test_img,axis = 0)"
   ]
  },
  {
   "cell_type": "code",
   "execution_count": 41,
   "id": "7b103996",
   "metadata": {},
   "outputs": [
    {
     "name": "stdout",
     "output_type": "stream",
     "text": [
      "1/1 [==============================] - 0s 15ms/step\n"
     ]
    }
   ],
   "source": [
    "result = model.predict(test_img)"
   ]
  },
  {
   "cell_type": "code",
   "execution_count": 42,
   "id": "9afe1353",
   "metadata": {},
   "outputs": [
    {
     "data": {
      "text/plain": [
       "array([[1., 0., 0., 0.]], dtype=float32)"
      ]
     },
     "execution_count": 42,
     "metadata": {},
     "output_type": "execute_result"
    }
   ],
   "source": [
    "result"
   ]
  },
  {
   "cell_type": "code",
   "execution_count": 43,
   "id": "3c100f14",
   "metadata": {},
   "outputs": [],
   "source": [
    "test_img2 = image.load_img(\"C:\\\\CRICKET SHOTS DATASET\\\\drive2.jpg\",target_size = (64,64))\n",
    "\n",
    "test_img2 = image.img_to_array(test_img2)\n",
    "test_img2 = np.expand_dims(test_img2,axis = 0)"
   ]
  },
  {
   "cell_type": "code",
   "execution_count": 44,
   "id": "d9431ffc",
   "metadata": {},
   "outputs": [
    {
     "name": "stdout",
     "output_type": "stream",
     "text": [
      "1/1 [==============================] - 0s 14ms/step\n"
     ]
    },
    {
     "data": {
      "text/plain": [
       "array([[0., 1., 0., 0.]], dtype=float32)"
      ]
     },
     "execution_count": 44,
     "metadata": {},
     "output_type": "execute_result"
    }
   ],
   "source": [
    "result2 = model.predict(test_img2)\n",
    "result2"
   ]
  },
  {
   "cell_type": "code",
   "execution_count": null,
   "id": "afcda9c9",
   "metadata": {},
   "outputs": [],
   "source": [
    "from"
   ]
  }
 ],
 "metadata": {
  "kernelspec": {
   "display_name": "Python 3 (ipykernel)",
   "language": "python",
   "name": "python3"
  },
  "language_info": {
   "codemirror_mode": {
    "name": "ipython",
    "version": 3
   },
   "file_extension": ".py",
   "mimetype": "text/x-python",
   "name": "python",
   "nbconvert_exporter": "python",
   "pygments_lexer": "ipython3",
   "version": "3.9.7"
  }
 },
 "nbformat": 4,
 "nbformat_minor": 5
}
